{
 "cells": [
  {
   "cell_type": "code",
   "execution_count": 22,
   "id": "17ce1ceb",
   "metadata": {},
   "outputs": [],
   "source": [
    "from python_simulation_manager.experiment_base.experiment_handler import ExperimentHandler, ExperimentOutput\n",
    "from typing import override\n",
    "import numpy as np"
   ]
  },
  {
   "cell_type": "code",
   "execution_count": 23,
   "id": "b46ec749",
   "metadata": {},
   "outputs": [],
   "source": [
    "class MyTestOutput(ExperimentOutput):\n",
    "    def __init__(self, file_name):\n",
    "        super().__init__(file_name)\n",
    "        self.first_line      = None\n",
    "        self.sums            = None\n",
    "        self.multiplications = None\n",
    "\n",
    "    @override\n",
    "    def parse_output(self, line_number, lines):\n",
    "        if line_number == 0:\n",
    "            self.first_line = lines\n",
    "        else:\n",
    "            slines = lines.split(\", \")\n",
    "            self.sums            = float(slines[0])\n",
    "            self.multiplications = float(slines[1])\n",
    "\n",
    "class MyTestExperiment(ExperimentHandler):\n",
    "\n",
    "    @override\n",
    "    def set_result_type(self, output_file) -> MyTestOutput:\n",
    "        return MyTestOutput(output_file)\n",
    "                \n",
    "class TestExperimentBuilder:\n",
    "    def __init__(self, name: str, folder: str, rust_dir: str):\n",
    "        self.name: str     = name\n",
    "        self.folder: str   = folder\n",
    "        self.rust_dir: str = rust_dir\n",
    "\n",
    "    def build_experiment(self: str, my_array: np.array, my_bool: bool, my_dict: dict):\n",
    "     \n",
    "        new_exp = MyTestExperiment(self.name, self.folder, self.rust_dir)\n",
    "        new_exp.add_static_parameter(\"my_array\", my_array)\n",
    "        new_exp.add_static_parameter(\"my_bool\", my_bool)\n",
    "        new_exp.add_scaling_parameter(\"my_dict\", my_dict)\n",
    "        new_exp.set_scaling_name([\"Lx\", \"Ly\"])\n",
    "        return new_exp"
   ]
  },
  {
   "cell_type": "code",
   "execution_count": 24,
   "id": "b8d74f18",
   "metadata": {},
   "outputs": [
    {
     "name": "stdout",
     "output_type": "stream",
     "text": [
      ">> Directory \"rust_example/test_results/test_experiment\" created\n",
      ">> Succesfully added my_array\n",
      ">> Succesfully added my_bool\n",
      ">> Succesfully added my_dict\n",
      ">> Setting file paths:\n",
      "-- setting paramfile \"test_results/test_experiment/parameter_2x2.txt\"\n",
      "-- setting paramfile \"test_results/test_experiment/parameter_4x4.txt\"\n",
      "-- setting paramfile \"test_results/test_experiment/parameter_8x8.txt\"\n",
      "-- setting outfile \"test_results/test_experiment/out_2x2.txt\"\n",
      "-- setting outfile \"test_results/test_experiment/out_4x4.txt\"\n",
      "-- setting outfile \"test_results/test_experiment/out_8x8.txt\"\n",
      ">> \"my_bool\" set\n",
      ">> Looking for parameter files:\n",
      "* Not all parameter files created yet:\n",
      "-- not written yet: rust_example/test_results/test_experiment/parameter_2x2.txt\n",
      "-- not written yet: rust_example/test_results/test_experiment/parameter_4x4.txt\n",
      "-- not written yet: rust_example/test_results/test_experiment/parameter_8x8.txt\n",
      ">> writing parameter files:\n",
      "-- test_results/test_experiment/parameter_2x2.txt: done\n",
      "-- test_results/test_experiment/parameter_4x4.txt: done\n",
      "-- test_results/test_experiment/parameter_8x8.txt: done\n"
     ]
    }
   ],
   "source": [
    "test_builder = TestExperimentBuilder(name=\"test_experiment\", folder=\"test_results\", rust_dir=\"rust_example\")\n",
    "an_array     = np.arange(0, 10, 1)\n",
    "a_boolean    = True\n",
    "a_dict       = {\n",
    "    2: \"small\",\n",
    "    4: \"medium\",\n",
    "    8: \"Large\"\n",
    "}\n",
    "\n",
    "test_exp = test_builder.build_experiment(an_array, a_boolean, a_dict) \n",
    "test_exp.set_static_parameter(\"my_bool\", False)\n",
    "\n",
    "if not test_exp.are_parameter_files_available():\n",
    "    test_exp.write_parameter_files()"
   ]
  },
  {
   "cell_type": "code",
   "execution_count": 29,
   "id": "5c9accdf",
   "metadata": {},
   "outputs": [
    {
     "name": "stdout",
     "output_type": "stream",
     "text": [
      "Command: \"cargo run --release -- test_results/test_experiment/parameter_2x2.txt\"\n",
      " * From Rust: \u001b[1m\u001b[32m    Finished\u001b[0m \u001b]8;;https://doc.rust-lang.org/cargo/reference/profiles.html#default-profiles\u001b\\`release` profile [optimized]\u001b]8;;\u001b\\ target(s) in 0.02s\n",
      " * From Rust: \u001b[1m\u001b[32m     Running\u001b[0m `target\\release\\rust_example.exe test_results/test_experiment/parameter_2x2.txt`\n",
      " * From Rust: Reading parameters:\n",
      " * From Rust: Lx: 2\n",
      " * From Rust: Ly: 2\n",
      " * From Rust: my_array: 0, 1, 2, 3, 4, 5, 6, 7, 8, 9\n",
      " * From Rust: my_bool: False\n",
      " * From Rust: my_dict: small\n",
      " * From Rust: outputfile: test_results/test_experiment/out_2x2.txt\n",
      " * From Rust: Writing in test_results/test_experiment/out_2x2.txt\n",
      "\n",
      "Command: \"cargo run --release -- test_results/test_experiment/parameter_4x4.txt\"\n",
      " * From Rust: \u001b[1m\u001b[32m    Finished\u001b[0m \u001b]8;;https://doc.rust-lang.org/cargo/reference/profiles.html#default-profiles\u001b\\`release` profile [optimized]\u001b]8;;\u001b\\ target(s) in 0.02s\n",
      " * From Rust: \u001b[1m\u001b[32m     Running\u001b[0m `target\\release\\rust_example.exe test_results/test_experiment/parameter_4x4.txt`\n",
      " * From Rust: Reading parameters:\n",
      " * From Rust: Lx: 4\n",
      " * From Rust: Ly: 4\n",
      " * From Rust: my_array: 0, 1, 2, 3, 4, 5, 6, 7, 8, 9\n",
      " * From Rust: my_bool: False\n",
      " * From Rust: my_dict: medium\n",
      " * From Rust: outputfile: test_results/test_experiment/out_4x4.txt\n",
      " * From Rust: Writing in test_results/test_experiment/out_4x4.txt\n",
      "\n",
      "Command: \"cargo run --release -- test_results/test_experiment/parameter_8x8.txt\"\n",
      " * From Rust: \u001b[1m\u001b[32m    Finished\u001b[0m \u001b]8;;https://doc.rust-lang.org/cargo/reference/profiles.html#default-profiles\u001b\\`release` profile [optimized]\u001b]8;;\u001b\\ target(s) in 0.03s\n",
      " * From Rust: \u001b[1m\u001b[32m     Running\u001b[0m `target\\release\\rust_example.exe test_results/test_experiment/parameter_8x8.txt`\n",
      " * From Rust: Reading parameters:\n",
      " * From Rust: Lx: 8\n",
      " * From Rust: Ly: 8\n",
      " * From Rust: my_array: 0, 1, 2, 3, 4, 5, 6, 7, 8, 9\n",
      " * From Rust: my_bool: False\n",
      " * From Rust: my_dict: Large\n",
      " * From Rust: outputfile: test_results/test_experiment/out_8x8.txt\n",
      " * From Rust: Writing in test_results/test_experiment/out_8x8.txt\n",
      "\n"
     ]
    }
   ],
   "source": [
    "for L in test_exp.get_lengths():\n",
    "    if not test_exp.has_output(L):\n",
    "        test_exp.perform_rust_computation(L)\n",
    "        print(\"\")"
   ]
  },
  {
   "cell_type": "code",
   "execution_count": 27,
   "id": "659def42",
   "metadata": {},
   "outputs": [
    {
     "name": "stdout",
     "output_type": "stream",
     "text": [
      ">> Looking for output files:\n",
      "-- Found output: \"rust_example/test_results/test_experiment/out_2x2.txt\"\n",
      "-- Found output: \"rust_example/test_results/test_experiment/out_4x4.txt\"\n",
      "-- Found output: \"rust_example/test_results/test_experiment/out_8x8.txt\"\n"
     ]
    },
    {
     "data": {
      "text/plain": [
       "True"
      ]
     },
     "execution_count": 27,
     "metadata": {},
     "output_type": "execute_result"
    }
   ],
   "source": [
    "test_exp.are_results_available()"
   ]
  },
  {
   "cell_type": "code",
   "execution_count": 28,
   "id": "91ca41f9",
   "metadata": {},
   "outputs": [
    {
     "name": "stdout",
     "output_type": "stream",
     "text": [
      "\n",
      "Found output: \"rust_example/test_results/test_experiment/out_2x2.txt\n",
      "Found output: \"rust_example/test_results/test_experiment/out_4x4.txt\n",
      "Found output: \"rust_example/test_results/test_experiment/out_8x8.txt\n",
      "\n",
      "Hello world! [Lx=2]\n",
      "sums: 4.0\n",
      "multiplications: 4.0\n",
      "Hello world! [Lx=4]\n",
      "sums: 8.0\n",
      "multiplications: 16.0\n",
      "Hello world! [Lx=8]\n",
      "sums: 16.0\n",
      "multiplications: 64.0\n"
     ]
    }
   ],
   "source": [
    "results = test_exp.get_results()\n",
    "print(\"\")\n",
    "for (Lx, result) in results.items():\n",
    "    print(result.first_line, end='')\n",
    "    print(\"sums:\", result.sums)\n",
    "    print(\"multiplications:\", result.multiplications)"
   ]
  }
 ],
 "metadata": {
  "kernelspec": {
   "display_name": "python-simulation-manager",
   "language": "python",
   "name": "python3"
  },
  "language_info": {
   "codemirror_mode": {
    "name": "ipython",
    "version": 3
   },
   "file_extension": ".py",
   "mimetype": "text/x-python",
   "name": "python",
   "nbconvert_exporter": "python",
   "pygments_lexer": "ipython3",
   "version": "3.13.2"
  }
 },
 "nbformat": 4,
 "nbformat_minor": 5
}
