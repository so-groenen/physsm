{
 "cells": [
  {
   "cell_type": "code",
   "execution_count": null,
   "id": "17ce1ceb",
   "metadata": {},
   "outputs": [],
   "source": [
    "from monte_carlo_ising import MonteCarloData, MonteCarloExperiment\n",
    "import numpy as np\n",
    "import matplotlib.pyplot as plt"
   ]
  },
  {
   "cell_type": "markdown",
   "id": "9dd467f1",
   "metadata": {},
   "source": [
    "### Preparing an experiment: [EXAMPLE]\n",
    "* Set thermalization & measurement steps for 8x8 & 16x16\n",
    "* Set temperatures\n",
    "<br>\n",
    "Then write to file, if not already done"
   ]
  },
  {
   "cell_type": "code",
   "execution_count": null,
   "id": "3b229a68",
   "metadata": {},
   "outputs": [],
   "source": [
    "thermalization_steps = dict()\n",
    "measurement_steps = dict()\n",
    "\n",
    "thermalization_steps[8] = 1_000_000\n",
    "measurement_steps[8]    = 1_000_000\n",
    "\n",
    "thermalization_steps[16] = 500_000\n",
    "measurement_steps[16]    = 500_000\n",
    "\n",
    "temperatures            = np.arange(0.1, 4, 0.1)\n",
    "\n",
    "exp = MonteCarloExperiment.new_from_parameters(\"experiment_1\", \"example_folder\", thermalization_steps, measurement_steps, temperatures)\n",
    "\n",
    "if not exp.are_parameter_files_available():\n",
    "    exp.write_parameter_files()"
   ]
  },
  {
   "cell_type": "markdown",
   "id": "ec7ae06c",
   "metadata": {},
   "source": [
    "## Loading a result from file: [EXAMPLE]"
   ]
  },
  {
   "cell_type": "markdown",
   "id": "c750b654",
   "metadata": {},
   "source": []
  },
  {
   "cell_type": "code",
   "execution_count": null,
   "id": "65efe956",
   "metadata": {},
   "outputs": [],
   "source": [
    "lengths      = [8, 16, 32, 64]\n",
    "load_example = MonteCarloExperiment(\"experiment_2\", \"example_folder\", lengths)\n",
    "\n",
    "if load_example.are_results_available():\n",
    "    result: dict[int,MonteCarloData]      = load_example.get_results()\n",
    "    \n",
    "    plt.title(\"2D Ising Magnetisation:\")\n",
    "    for (L, res) in result.items():\n",
    "        plt.plot(res.temperatures, res.magnetisation, label=f\"{L}x{L}\")\n",
    "        plt.xlabel(\"Temperature [J/kB]\")\n",
    "        plt.ylabel(\"Magnetisation\")\n",
    "        plt.legend()\n",
    "else:\n",
    "    print(\"No results available\")"
   ]
  },
  {
   "cell_type": "code",
   "execution_count": null,
   "id": "36932fde",
   "metadata": {},
   "outputs": [],
   "source": [
    "result = load_example.get_results()"
   ]
  },
  {
   "cell_type": "code",
   "execution_count": null,
   "id": "f815f39b",
   "metadata": {},
   "outputs": [],
   "source": [
    "load_example.temperatures"
   ]
  },
  {
   "cell_type": "code",
   "execution_count": null,
   "id": "b5bc47b3",
   "metadata": {},
   "outputs": [],
   "source": []
  }
 ],
 "metadata": {
  "kernelspec": {
   "display_name": "Python 3",
   "language": "python",
   "name": "python3"
  },
  "language_info": {
   "codemirror_mode": {
    "name": "ipython",
    "version": 3
   },
   "file_extension": ".py",
   "mimetype": "text/x-python",
   "name": "python",
   "nbconvert_exporter": "python",
   "pygments_lexer": "ipython3",
   "version": "3.13.2"
  }
 },
 "nbformat": 4,
 "nbformat_minor": 5
}
