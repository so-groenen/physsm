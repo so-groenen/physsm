{
 "cells": [
  {
   "cell_type": "code",
   "execution_count": null,
   "id": "17ce1ceb",
   "metadata": {},
   "outputs": [],
   "source": [
    "from python_simulation_manager.experiment_base.experiment_handler import ExperimentHandler\n",
    "from python_simulation_manager.experiment_base.experiment_output import ExperimentOutput\n",
    "from typing import override\n",
    "import numpy as np"
   ]
  },
  {
   "cell_type": "code",
   "execution_count": 56,
   "id": "b46ec749",
   "metadata": {},
   "outputs": [],
   "source": [
    "class MyTestOutput(ExperimentOutput):\n",
    "    def __init__(self, file_name):\n",
    "        super().__init__(file_name)\n",
    "        self.hello_world     = None\n",
    "        self.sum            = None\n",
    "        self.multiplication = None\n",
    "\n",
    "    @override\n",
    "    def parse_output(self, line_number, lines):\n",
    "        if line_number == 0:\n",
    "            self.hello_world = lines.removesuffix(\"\\n\")\n",
    "        else:\n",
    "            slines = lines.split(\", \")\n",
    "            self.sum            = float(slines[0])\n",
    "            self.multiplication = float(slines[1])\n",
    "\n",
    "class MyTestExperiment(ExperimentHandler):\n",
    "\n",
    "    @override\n",
    "    def set_result_type(self, output_file) -> MyTestOutput:\n",
    "        return MyTestOutput(output_file)\n",
    "                \n",
    "class TestExperimentBuilder:\n",
    "    def __init__(self, name: str, folder: str, rust_dir: str):\n",
    "        self.name: str     = name\n",
    "        self.folder: str   = folder\n",
    "        self.rust_dir: str = rust_dir\n",
    "\n",
    "    def build_experiment(self: str, my_array: np.array, my_bool: bool, steps: dict):\n",
    "     \n",
    "        new_exp = MyTestExperiment(self.name, self.folder, self.rust_dir)\n",
    "        new_exp.add_static_parameter(\"my_array\", my_array)\n",
    "        new_exp.add_static_parameter(\"my_bool\", my_bool)\n",
    "        new_exp.add_scaling_parameter(\"steps\", steps)\n",
    "        new_exp.set_scaling_name([\"Lx\", \"Ly\"])\n",
    "        return new_exp"
   ]
  },
  {
   "cell_type": "code",
   "execution_count": 57,
   "id": "b8d74f18",
   "metadata": {},
   "outputs": [
    {
     "name": "stdout",
     "output_type": "stream",
     "text": [
      ">> Directory \"rust_example/test_results/test_experiment\" Found.\n",
      ">> Succesfully added my_array\n",
      ">> Succesfully added my_bool\n",
      ">> Succesfully added steps\n",
      ">> Setting file paths:\n",
      "-- setting paramfile \"test_results/test_experiment/parameter_2x2.txt\"\n",
      "-- setting paramfile \"test_results/test_experiment/parameter_4x4.txt\"\n",
      "-- setting paramfile \"test_results/test_experiment/parameter_8x8.txt\"\n",
      "-- setting outfile \"test_results/test_experiment/out_2x2.txt\"\n",
      "-- setting outfile \"test_results/test_experiment/out_4x4.txt\"\n",
      "-- setting outfile \"test_results/test_experiment/out_8x8.txt\"\n",
      ">> writing parameter files:\n",
      "-- test_results/test_experiment/parameter_2x2.txt: done\n",
      "-- test_results/test_experiment/parameter_4x4.txt: done\n",
      "-- test_results/test_experiment/parameter_8x8.txt: done\n",
      ">> \"my_bool\" set\n"
     ]
    }
   ],
   "source": [
    "test_builder      = TestExperimentBuilder(name=\"test_experiment\", folder=\"test_results\", rust_dir=\"rust_example\")\n",
    "an_array          = np.arange(0, 10, 1)\n",
    "a_boolean         = True\n",
    "monte_carlo_steps = {\n",
    "    2: 100,\n",
    "    4: 1_000,\n",
    "    8: 1_000_000\n",
    "}\n",
    "\n",
    "test_exp = test_builder.build_experiment(an_array, a_boolean, monte_carlo_steps) \n",
    "test_exp.write_parameter_files()\n",
    "\n",
    "\n",
    "test_exp.set_static_parameter(\"my_bool\", False)\n",
    "\n",
    "# if not test_exp.are_parameter_files_available():\n"
   ]
  },
  {
   "cell_type": "code",
   "execution_count": 58,
   "id": "5c9accdf",
   "metadata": {},
   "outputs": [
    {
     "name": "stdout",
     "output_type": "stream",
     "text": [
      "Command: \"cargo run --release -- test_results/test_experiment/parameter_2x2.txt\"\n",
      " * From Rust: \u001b[1m\u001b[32m    Finished\u001b[0m \u001b]8;;https://doc.rust-lang.org/cargo/reference/profiles.html#default-profiles\u001b\\`release` profile [optimized]\u001b]8;;\u001b\\ target(s) in 0.03s\n",
      " * From Rust: \u001b[1m\u001b[32m     Running\u001b[0m `target\\release\\rust_example.exe test_results/test_experiment/parameter_2x2.txt`\n",
      " * From Rust: Reading parameters:\n",
      " * From Rust: Lx: 2\n",
      " * From Rust: Ly: 2\n",
      " * From Rust: my_array: 0, 1, 2, 3, 4, 5, 6, 7, 8, 9\n",
      " * From Rust: my_bool: True\n",
      " * From Rust: steps: 100\n",
      " * From Rust: outputfile: test_results/test_experiment/out_2x2.txt\n",
      " * From Rust: Writing in test_results/test_experiment/out_2x2.txt\n",
      "\n",
      "Command: \"cargo run --release -- test_results/test_experiment/parameter_4x4.txt\"\n",
      " * From Rust: \u001b[1m\u001b[32m    Finished\u001b[0m \u001b]8;;https://doc.rust-lang.org/cargo/reference/profiles.html#default-profiles\u001b\\`release` profile [optimized]\u001b]8;;\u001b\\ target(s) in 0.03s\n",
      " * From Rust: \u001b[1m\u001b[32m     Running\u001b[0m `target\\release\\rust_example.exe test_results/test_experiment/parameter_4x4.txt`\n",
      " * From Rust: Reading parameters:\n",
      " * From Rust: Lx: 4\n",
      " * From Rust: Ly: 4\n",
      " * From Rust: my_array: 0, 1, 2, 3, 4, 5, 6, 7, 8, 9\n",
      " * From Rust: my_bool: True\n",
      " * From Rust: steps: 1000\n",
      " * From Rust: outputfile: test_results/test_experiment/out_4x4.txt\n",
      " * From Rust: Writing in test_results/test_experiment/out_4x4.txt\n",
      "\n",
      "Command: \"cargo run --release -- test_results/test_experiment/parameter_8x8.txt\"\n",
      " * From Rust: \u001b[1m\u001b[32m    Finished\u001b[0m \u001b]8;;https://doc.rust-lang.org/cargo/reference/profiles.html#default-profiles\u001b\\`release` profile [optimized]\u001b]8;;\u001b\\ target(s) in 0.03s\n",
      " * From Rust: \u001b[1m\u001b[32m     Running\u001b[0m `target\\release\\rust_example.exe test_results/test_experiment/parameter_8x8.txt`\n",
      " * From Rust: Reading parameters:\n",
      " * From Rust: Lx: 8\n",
      " * From Rust: Ly: 8\n",
      " * From Rust: my_array: 0, 1, 2, 3, 4, 5, 6, 7, 8, 9\n",
      " * From Rust: my_bool: True\n",
      " * From Rust: steps: 1000000\n",
      " * From Rust: outputfile: test_results/test_experiment/out_8x8.txt\n",
      " * From Rust: Writing in test_results/test_experiment/out_8x8.txt\n",
      "\n"
     ]
    }
   ],
   "source": [
    "for L in test_exp.get_lengths():\n",
    "    # if not test_exp.has_output(L):\n",
    "    test_exp.perform_rust_computation(L)\n",
    "    print(\"\")"
   ]
  },
  {
   "cell_type": "code",
   "execution_count": 59,
   "id": "659def42",
   "metadata": {},
   "outputs": [
    {
     "name": "stdout",
     "output_type": "stream",
     "text": [
      ">> Looking for output files:\n",
      "-- Found output: \"rust_example/test_results/test_experiment/out_2x2.txt\"\n",
      "-- Found output: \"rust_example/test_results/test_experiment/out_4x4.txt\"\n",
      "-- Found output: \"rust_example/test_results/test_experiment/out_8x8.txt\"\n"
     ]
    },
    {
     "data": {
      "text/plain": [
       "True"
      ]
     },
     "execution_count": 59,
     "metadata": {},
     "output_type": "execute_result"
    }
   ],
   "source": [
    "test_exp.are_results_available()"
   ]
  },
  {
   "cell_type": "code",
   "execution_count": 66,
   "id": "91ca41f9",
   "metadata": {},
   "outputs": [
    {
     "name": "stdout",
     "output_type": "stream",
     "text": [
      "\n",
      "Found output: \"rust_example/test_results/test_experiment/out_2x2.txt\n",
      "Found output: \"rust_example/test_results/test_experiment/out_4x4.txt\n",
      "Found output: \"rust_example/test_results/test_experiment/out_8x8.txt\n",
      "For Lx = 2 we have:\n",
      "Hello world! [Lx=2]\n",
      "Sum            = 4.0\n",
      "multiplication = 4.0\n",
      "For Lx = 4 we have:\n",
      "Hello world! [Lx=4]\n",
      "Sum            = 8.0\n",
      "multiplication = 16.0\n",
      "For Lx = 8 we have:\n",
      "Hello world! [Lx=8]\n",
      "Sum            = 16.0\n",
      "multiplication = 64.0\n"
     ]
    }
   ],
   "source": [
    "results = test_exp.get_results()\n",
    "for (Lx, result) in results.items():\n",
    "    print(f\"For Lx = {Lx} we have:\")\n",
    "    print(result.hello_world)\n",
    "    print(f\"Sum            = {result.sum}\")\n",
    "    print(f\"multiplication = {result.multiplication}\")\n"
   ]
  },
  {
   "cell_type": "code",
   "execution_count": 51,
   "id": "cf46eefc",
   "metadata": {},
   "outputs": [],
   "source": [
    "from python_simulation_manager.monte_carlo_ising_for_rust import RustExperimentBuilder, RustIsingExperiment\n"
   ]
  },
  {
   "cell_type": "code",
   "execution_count": 52,
   "id": "b697e1e9",
   "metadata": {},
   "outputs": [
    {
     "name": "stdout",
     "output_type": "stream",
     "text": [
      ">> Directory \"ising_rust/results/ising_overview\" Found.\n",
      ">> Succesfully added temperatures\n",
      ">> Succesfully added measure_struct_fact\n",
      ">> Succesfully added therm_steps\n",
      ">> Setting file paths:\n",
      "-- setting paramfile \"results/ising_overview/parameter_2x2.txt\"\n",
      "-- setting paramfile \"results/ising_overview/parameter_4x4.txt\"\n",
      "-- setting paramfile \"results/ising_overview/parameter_8x8.txt\"\n",
      "-- setting outfile \"results/ising_overview/out_2x2.txt\"\n",
      "-- setting outfile \"results/ising_overview/out_4x4.txt\"\n",
      "-- setting outfile \"results/ising_overview/out_8x8.txt\"\n",
      ">> Succesfully added measure_steps\n",
      ">> writing parameter files:\n",
      "-- results/ising_overview/parameter_2x2.txt: done\n",
      "-- results/ising_overview/parameter_4x4.txt: done\n",
      "-- results/ising_overview/parameter_8x8.txt: done\n"
     ]
    }
   ],
   "source": [
    "thermalization_steps = {2: 1_000_000, 4: 500_000,  8: 100_000}\n",
    "measure_steps        = {2: 1_000_000, 4: 500_000,  8: 100_000}\n",
    "temperatures         = np.arange(0, 10, 1)\n",
    "builder              = RustExperimentBuilder(name=\"ising_overview\", folder=\"results\", rust_dir=\"ising_rust\")\n",
    "\n",
    "experiment = builder.new_from_parameters(thermalization_steps, measure_steps, temperatures)\n",
    "experiment.write_parameter_files()"
   ]
  },
  {
   "cell_type": "code",
   "execution_count": 53,
   "id": "04d2affa",
   "metadata": {},
   "outputs": [
    {
     "name": "stdout",
     "output_type": "stream",
     "text": [
      "Command: \"cargo run --release -- results/ising_overview/parameter_2x2.txt\"\n",
      " * From Rust: \u001b[1m\u001b[31merror\u001b[0m\u001b[1m:\u001b[0m could not find `Cargo.toml` in `c:\\Users\\solof\\Desktop\\programming\\python\\GITHUB\\python_simulation_manager\\ising_rust` or any parent directory\n",
      "Command: \"cargo run --release -- results/ising_overview/parameter_4x4.txt\"\n",
      " * From Rust: \u001b[1m\u001b[31merror\u001b[0m\u001b[1m:\u001b[0m could not find `Cargo.toml` in `c:\\Users\\solof\\Desktop\\programming\\python\\GITHUB\\python_simulation_manager\\ising_rust` or any parent directory\n",
      "Command: \"cargo run --release -- results/ising_overview/parameter_8x8.txt\"\n",
      " * From Rust: \u001b[1m\u001b[31merror\u001b[0m\u001b[1m:\u001b[0m could not find `Cargo.toml` in `c:\\Users\\solof\\Desktop\\programming\\python\\GITHUB\\python_simulation_manager\\ising_rust` or any parent directory\n"
     ]
    }
   ],
   "source": [
    "for L in experiment.get_lengths():\n",
    "    experiment.perform_rust_computation(L)"
   ]
  },
  {
   "cell_type": "code",
   "execution_count": null,
   "id": "7bc07973",
   "metadata": {},
   "outputs": [],
   "source": [
    "experiment.get_results()"
   ]
  }
 ],
 "metadata": {
  "kernelspec": {
   "display_name": "python-simulation-manager",
   "language": "python",
   "name": "python3"
  },
  "language_info": {
   "codemirror_mode": {
    "name": "ipython",
    "version": 3
   },
   "file_extension": ".py",
   "mimetype": "text/x-python",
   "name": "python",
   "nbconvert_exporter": "python",
   "pygments_lexer": "ipython3",
   "version": "3.13.2"
  }
 },
 "nbformat": 4,
 "nbformat_minor": 5
}
