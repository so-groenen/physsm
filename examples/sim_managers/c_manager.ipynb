{
 "cells": [
  {
   "cell_type": "code",
   "execution_count": null,
   "id": "abd708e1",
   "metadata": {},
   "outputs": [],
   "source": [
    "from python_simulation_manager.cpp_handler import CppExperiment, CppExperimentBuilder\n",
    "from python_simulation_manager.output import ExperimentOutput\n",
    "from typing import override\n",
    "from pathlib import Path\n",
    "import numpy as np"
   ]
  },
  {
   "cell_type": "code",
   "execution_count": null,
   "id": "c04d75d0",
   "metadata": {},
   "outputs": [],
   "source": [
    "class MyOutput(ExperimentOutput):\n",
    "    def __init__(self, out_path):\n",
    "        super().__init__(out_path)\n",
    "        self.title   = None\n",
    "        self.result1 = []\n",
    "        self.result2 = []\n",
    "\n",
    "    @override\n",
    "    def parse_output(self, line_number, line):\n",
    "        if line_number == 0:\n",
    "            self.title = line.strip()\n",
    "            return\n",
    "        \n",
    "        slines = line.split(\"=>\")\n",
    "        if line_number == 1:\n",
    "            self.result1.append(float(slines[1]))\n",
    "        else:\n",
    "            self.result2.append(float(slines[1]))"
   ]
  },
  {
   "cell_type": "code",
   "execution_count": null,
   "id": "c22bd601",
   "metadata": {},
   "outputs": [],
   "source": [
    "a, b = \"haha,hehe\".split(\",\")\n",
    "a"
   ]
  },
  {
   "cell_type": "code",
   "execution_count": null,
   "id": "ceeebb51",
   "metadata": {},
   "outputs": [],
   "source": [
    "class CppExperimentFactory:\n",
    "    \n",
    "    def __init__(self, results_dir: str, exp_name: str):\n",
    "        self.proj_dir = Path.cwd().parent\n",
    "        self.builder  = CppExperimentBuilder(self.proj_dir, results_dir, exp_name, verbose_log=False)\n",
    "\n",
    "    def create_experiment(self, monte_carlo_trials: dict[int, int], temperature: np.ndarray) -> CppExperiment:\n",
    "        executable  = self.proj_dir / \"c_example\" / \"build\" / \"c_example.exe\"\n",
    "\n",
    "        self.builder.set_output_type(MyOutput)\n",
    "        self.builder.add_static_parameter(\"temperature\", temperature)\n",
    "        self.builder.add_scaling_parameter(\"monte_carlo_trials\", monte_carlo_trials)\n",
    "        self.builder.set_scale_variable_names([\"length\"])        \n",
    "        self.builder.set_executable(executable)\n",
    "        experiment = self.builder.build()\n",
    "        return experiment\n",
    "    \n",
    "    def load(self, lengths: list[int]) -> CppExperiment:\n",
    "        executable  = self.proj_dir / \"c_example\" / \"build\" / \"c_example.exe\"\n",
    "\n",
    "        self.builder.set_output_type(MyOutput)\n",
    "        self.builder.set_scale_variables(lengths)\n",
    "        self.builder.set_scale_variable_names([\"length\"])        \n",
    "        self.builder.set_executable(executable)\n",
    "        experiment = self.builder.build(load_only=True)\n",
    "        return experiment"
   ]
  },
  {
   "cell_type": "code",
   "execution_count": null,
   "id": "5bd90057",
   "metadata": {},
   "outputs": [],
   "source": [
    "result_folder = \"results\"\n",
    "exp_folder    = \"c_experiment\"\n",
    "\n",
    "factory = CppExperimentFactory(result_folder, exp_folder)\n",
    "\n",
    "monte_carlo_trials = {\n",
    "    2: 1_000,\n",
    "    3: 5_000,\n",
    "    4: 10_000\n",
    "}\n",
    "temperature = np.arange(0, 10, 1, np.int32)\n",
    "experiment  = factory.create_experiment(monte_carlo_trials, temperature)\n",
    "experiment.write_parameter_files()"
   ]
  },
  {
   "cell_type": "code",
   "execution_count": null,
   "id": "67b18016",
   "metadata": {},
   "outputs": [],
   "source": [
    "experiment.are_parameter_files_available()"
   ]
  },
  {
   "cell_type": "markdown",
   "id": "309abfc0",
   "metadata": {},
   "source": [
    "Helper function to give meaning to \"scale_variables\":"
   ]
  },
  {
   "cell_type": "code",
   "execution_count": null,
   "id": "7f9a283e",
   "metadata": {},
   "outputs": [],
   "source": [
    "def lengths(exp: CppExperiment) -> list[int]:\n",
    "    return exp.get_scale_variables()"
   ]
  },
  {
   "cell_type": "code",
   "execution_count": null,
   "id": "1fad7391",
   "metadata": {},
   "outputs": [],
   "source": [
    "for length in lengths(experiment):\n",
    "    experiment.run_executable(length, verbose=False)"
   ]
  },
  {
   "cell_type": "code",
   "execution_count": null,
   "id": "1ca20ea7",
   "metadata": {},
   "outputs": [],
   "source": [
    "experiment.are_results_available()"
   ]
  },
  {
   "cell_type": "markdown",
   "id": "78fd45bf",
   "metadata": {},
   "source": [
    "Helper function for type hinting:"
   ]
  },
  {
   "cell_type": "code",
   "execution_count": null,
   "id": "9dc325d3",
   "metadata": {},
   "outputs": [],
   "source": [
    "def results(exp: CppExperiment) -> dict[int, MyOutput]:\n",
    "    return exp.get_results()"
   ]
  },
  {
   "cell_type": "code",
   "execution_count": null,
   "id": "805539a8",
   "metadata": {},
   "outputs": [],
   "source": [
    "for (length, res) in results(experiment).items():\n",
    "    \n",
    "    print(f\"For length = {length}:\")\n",
    "    print(f\"> title: \\\"{res.title}\\\"\")\n",
    "    print(f\"> result1 = {res.result1}\")\n",
    "    print(f\"> result2 = {res.result2}\")\n",
    "    print(\"\")\n",
    "    \n",
    "    assert type(res.result1) == np.ndarray, \"Lists are cast to np array automatically!\"\n",
    "    assert type(res.result2) == np.ndarray, \"Lists are cast to np array automatically!\""
   ]
  },
  {
   "cell_type": "markdown",
   "id": "63f5e12e",
   "metadata": {},
   "source": [
    "From file"
   ]
  },
  {
   "cell_type": "code",
   "execution_count": null,
   "id": "dc0c682e",
   "metadata": {},
   "outputs": [],
   "source": [
    "result_folder = \"test_folder\"\n",
    "exp_folder    = \"c_experiment\"\n",
    "lengths       = [2,3,4]\n",
    "\n",
    "exp_loader     = CppExperimentFactory(result_folder, exp_folder)\n",
    "exp_from_file  = exp_loader.load(lengths) "
   ]
  },
  {
   "cell_type": "code",
   "execution_count": null,
   "id": "d1440a9e",
   "metadata": {},
   "outputs": [],
   "source": [
    "exp_from_file.are_results_available()"
   ]
  },
  {
   "cell_type": "code",
   "execution_count": null,
   "id": "3010bcd0",
   "metadata": {},
   "outputs": [],
   "source": [
    "for (length, res) in results(exp_from_file).items():\n",
    "    \n",
    "    print(f\"For length = {length}:\")\n",
    "    print(f\"> title: \\\"{res.title}\\\"\")\n",
    "    print(f\"> result1 = {res.result1}\")\n",
    "    print(f\"> result2 = {res.result2}\")\n",
    "    print(\"\")"
   ]
  }
 ],
 "metadata": {
  "kernelspec": {
   "display_name": "python-simulation-manager",
   "language": "python",
   "name": "python3"
  },
  "language_info": {
   "codemirror_mode": {
    "name": "ipython",
    "version": 3
   },
   "file_extension": ".py",
   "mimetype": "text/x-python",
   "name": "python",
   "nbconvert_exporter": "python",
   "pygments_lexer": "ipython3",
   "version": "3.13.2"
  }
 },
 "nbformat": 4,
 "nbformat_minor": 5
}
