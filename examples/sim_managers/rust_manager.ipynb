{
 "cells": [
  {
   "cell_type": "code",
   "execution_count": null,
   "id": "abd708e1",
   "metadata": {},
   "outputs": [],
   "source": [
    "from python_simulation_manager.rust_handler import RustExperiment, RustExperimentBuilder\n",
    "from python_simulation_manager.output import ExperimentOutput\n",
    "from typing import override\n",
    "from pathlib import Path\n",
    "import numpy as np"
   ]
  },
  {
   "cell_type": "code",
   "execution_count": null,
   "id": "c04d75d0",
   "metadata": {},
   "outputs": [],
   "source": [
    "class MyRustOutput(ExperimentOutput):\n",
    "    def __init__(self, out_path):\n",
    "        super().__init__(out_path)\n",
    "        self.title   = None\n",
    "        self.result1: list = []\n",
    "        self.result2: list = []\n",
    "\n",
    "    @override\n",
    "    def parse_output(self, line_number: int, line: str):\n",
    "        if line_number == 0:\n",
    "            self.title = line.strip()\n",
    "            return\n",
    "        \n",
    "        slines = line.split(\",\")\n",
    "        self.result1.append(float(slines[0]))\n",
    "        self.result2.append(float(slines[1]))\n",
    "        "
   ]
  },
  {
   "cell_type": "code",
   "execution_count": null,
   "id": "ceeebb51",
   "metadata": {},
   "outputs": [],
   "source": [
    "class RustExperimentHandler:\n",
    "    \n",
    "    def __init__(self, results_dir: str, exp_name: str):\n",
    "        self.proj_dir  = Path.cwd().parent\n",
    "        self.builder   = RustExperimentBuilder(self.proj_dir, results_dir, exp_name)\n",
    "\n",
    "    def create(self, monte_carlo_trials: dict[int, int], temperature: np.ndarray) -> RustExperiment:\n",
    "        cargo_toml_path = self.proj_dir / \"rust_example\" / \"Cargo.toml\"\n",
    "        \n",
    "        self.builder.set_output_type(MyRustOutput)\n",
    "        self.builder.add_static_parameter(\"temperature\", temperature)\n",
    "        self.builder.add_scaling_parameter(\"monte_carlo_trials\", monte_carlo_trials)\n",
    "        self.builder.set_scale_variable_names([\"Lx\",\"Ly\"])\n",
    "        self.builder.set_cargo_toml_path(cargo_toml_path)\n",
    "        experiment = self.builder.build()\n",
    "        return experiment\n",
    "    \n",
    "    def load(self, lengths: list[int]) -> RustExperiment:\n",
    "        \n",
    "        self.builder.set_output_type(MyRustOutput)\n",
    "        self.builder.set_scale_variables(lengths)\n",
    "        self.builder.set_scale_variable_names([\"Lx\",\"Ly\"])\n",
    "        return self.builder.build(load_only=True)\n",
    "\n",
    "\n"
   ]
  },
  {
   "cell_type": "code",
   "execution_count": null,
   "id": "5bd90057",
   "metadata": {},
   "outputs": [],
   "source": [
    "result_folder = \"results\"\n",
    "exp_folder    = \"rust_build_experiment\"\n",
    "\n",
    "handler = RustExperimentHandler(result_folder, exp_folder)\n",
    "\n",
    "monte_carlo_trials = {\n",
    "    2: 1_000,\n",
    "    3: 5_000,\n",
    "    4: 10_000\n",
    "}\n",
    "temperature = np.arange(0, 10, 1, np.int32)\n",
    "experiment  = handler.create(monte_carlo_trials, temperature)\n",
    "experiment.write_parameter_files()"
   ]
  },
  {
   "cell_type": "code",
   "execution_count": null,
   "id": "396a7645",
   "metadata": {},
   "outputs": [],
   "source": [
    "experiment.are_parameter_files_available()"
   ]
  },
  {
   "cell_type": "markdown",
   "id": "1d1ce8bd",
   "metadata": {},
   "source": [
    "Helper function to give meaning to \"scale_variables\""
   ]
  },
  {
   "cell_type": "code",
   "execution_count": null,
   "id": "26a126df",
   "metadata": {},
   "outputs": [],
   "source": [
    "def lengths(exp: RustExperiment) -> list[int]:\n",
    "    return exp.get_scale_variables()"
   ]
  },
  {
   "cell_type": "code",
   "execution_count": null,
   "id": "1fad7391",
   "metadata": {},
   "outputs": [],
   "source": [
    "for length in lengths(experiment):\n",
    "    experiment.run(length, verbose=False)"
   ]
  },
  {
   "cell_type": "code",
   "execution_count": null,
   "id": "28a0a946",
   "metadata": {},
   "outputs": [],
   "source": [
    "experiment.are_results_available()"
   ]
  },
  {
   "cell_type": "markdown",
   "id": "70bc2a2d",
   "metadata": {},
   "source": [
    "Helpher function for type hinting"
   ]
  },
  {
   "cell_type": "code",
   "execution_count": null,
   "id": "32351d68",
   "metadata": {},
   "outputs": [],
   "source": [
    "def results(exp: RustExperiment) -> dict[int, MyRustOutput]:\n",
    "    return exp.get_results()"
   ]
  },
  {
   "cell_type": "code",
   "execution_count": null,
   "id": "805539a8",
   "metadata": {},
   "outputs": [],
   "source": [
    "for (length, res) in results(experiment).items():\n",
    "    \n",
    "    print(f\"For length = {length}:\")\n",
    "    print(f\"info: \\\"{res.title}\\\"\")\n",
    "    print(f\"> result1 = {res.result1}\")\n",
    "    print(f\"> result2 = {res.result2}\")\n",
    "    print(\"\")\n",
    "    \n",
    "    assert type(res.result1) == np.ndarray, \"Lists are cast to np array automatically!\"\n",
    "    assert type(res.result2) == np.ndarray, \"Lists are cast to np array automatically!\""
   ]
  },
  {
   "cell_type": "markdown",
   "id": "c538c79a",
   "metadata": {},
   "source": [
    "Load from file:"
   ]
  },
  {
   "cell_type": "code",
   "execution_count": null,
   "id": "dc0c682e",
   "metadata": {},
   "outputs": [],
   "source": [
    "result_folder = \"test_folder\"\n",
    "exp_folder    = \"rust_experiment\"\n",
    "lengths       = [2,3,4]\n",
    "\n",
    "exp_loader     = RustExperimentHandler(result_folder, exp_folder)\n",
    "exp_from_file  = exp_loader.load(lengths) "
   ]
  },
  {
   "cell_type": "code",
   "execution_count": null,
   "id": "bc1805c2",
   "metadata": {},
   "outputs": [],
   "source": [
    "exp_from_file.are_results_available()"
   ]
  },
  {
   "cell_type": "code",
   "execution_count": null,
   "id": "d7469ae9",
   "metadata": {},
   "outputs": [],
   "source": [
    "for (length, res) in  results(exp_from_file).items():\n",
    "    res: MyRustOutput\n",
    "    \n",
    "    print(f\"For length = {length}:\")\n",
    "    print(f\"info: \\\"{res.title}\\\"\")\n",
    "    print(f\"> result1 = {res.result1}\")\n",
    "    print(f\"> result2 = {res.result2}\")\n",
    "    print(\"\")"
   ]
  }
 ],
 "metadata": {
  "kernelspec": {
   "display_name": "python-simulation-manager",
   "language": "python",
   "name": "python3"
  },
  "language_info": {
   "codemirror_mode": {
    "name": "ipython",
    "version": 3
   },
   "file_extension": ".py",
   "mimetype": "text/x-python",
   "name": "python",
   "nbconvert_exporter": "python",
   "pygments_lexer": "ipython3",
   "version": "3.13.2"
  }
 },
 "nbformat": 4,
 "nbformat_minor": 5
}
