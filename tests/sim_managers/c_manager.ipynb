{
 "cells": [
  {
   "cell_type": "code",
   "execution_count": null,
   "id": "abd708e1",
   "metadata": {},
   "outputs": [],
   "source": [
    "from python_simulation_manager.handler import ExperimentHandler\n",
    "from python_simulation_manager.output import ExperimentOutput\n",
    "from typing import override\n",
    "from pathlib import Path\n",
    "import numpy as np"
   ]
  },
  {
   "cell_type": "code",
   "execution_count": null,
   "id": "c04d75d0",
   "metadata": {},
   "outputs": [],
   "source": [
    "class C_Output(ExperimentOutput):\n",
    "    def __init__(self, out_path):\n",
    "        super().__init__(out_path)\n",
    "        self.title   = None\n",
    "        self.result1 = []\n",
    "        self.result2 = []\n",
    "\n",
    "    @override\n",
    "    def parse_output(self, line_number, line):\n",
    "        if line_number == 0:\n",
    "            self.title = line.strip()\n",
    "            return\n",
    "        \n",
    "        slines = line.split(\"=>\")\n",
    "        if line_number == 1:\n",
    "            self.result1.append(float(slines[1]))\n",
    "        else:\n",
    "            self.result2.append(float(slines[1]))\n",
    "        \n",
    "            \n",
    "class C_Experiment(ExperimentHandler):\n",
    "    \n",
    "    def lengths(self) -> list[int]:\n",
    "        return self.get_scale_variables()"
   ]
  },
  {
   "cell_type": "code",
   "execution_count": null,
   "id": "ceeebb51",
   "metadata": {},
   "outputs": [],
   "source": [
    "class Builder:\n",
    "    \n",
    "    def __init__(self, result_folder: str, experiment_name: str):\n",
    "        self.proj_dir        = Path.cwd().parent\n",
    "        self.result_folder   = Path(result_folder)\n",
    "        self.experiment_name = experiment_name\n",
    "        \n",
    "    def build(self, monte_carlo_trials: dict[int, int], temperature: np.ndarray) -> C_Experiment:\n",
    "        executable  = self.proj_dir / \"c_example\" / \"build\" / \"c_example.exe\"\n",
    "        \n",
    "        writer      = C_Experiment(self.proj_dir, self.experiment_name, self.result_folder, verbose_log=False)\n",
    "        \n",
    "        writer.set_output_type(C_Output)\n",
    "        writer.add_static_parameter(\"temperature\", temperature)\n",
    "        writer.add_scaling_parameter(\"monte_carlo_trials\", monte_carlo_trials)\n",
    "        writer.set_scale_variable_names([\"length\"])        \n",
    "        writer.set_executable(executable)\n",
    "        writer.set_files()\n",
    "\n",
    "        return writer\n",
    "    \n",
    "    def load(self, lengths: list[int]) -> C_Experiment:\n",
    "        proj_dir        = Path.cwd().parent\n",
    "        exp             = C_Experiment(proj_dir, self.experiment_name, self.result_folder, verbose_log=False)\n",
    "        \n",
    "        exp.set_output_type(C_Output)\n",
    "        exp.set_scale_variables(lengths)\n",
    "        exp.set_scale_variable_names([\"length\"])\n",
    "        exp.set_files()\n",
    "        return exp"
   ]
  },
  {
   "cell_type": "code",
   "execution_count": null,
   "id": "5bd90057",
   "metadata": {},
   "outputs": [],
   "source": [
    "result_folder = \"test_folder\"\n",
    "exp_folder    = \"c_experiment\"\n",
    "\n",
    "builder = Builder(result_folder, exp_folder)\n",
    "\n",
    "monte_carlo_trials = {\n",
    "    2: 1_000,\n",
    "    3: 5_000,\n",
    "    4: 10_000\n",
    "}\n",
    "temperature = np.arange(0, 10, 1, np.int32)\n",
    "experiment  = builder.build(monte_carlo_trials, temperature)\n",
    "experiment.write_parameter_files()"
   ]
  },
  {
   "cell_type": "code",
   "execution_count": null,
   "id": "67b18016",
   "metadata": {},
   "outputs": [],
   "source": [
    "experiment.are_parameter_files_available()"
   ]
  },
  {
   "cell_type": "code",
   "execution_count": null,
   "id": "1fad7391",
   "metadata": {},
   "outputs": [],
   "source": [
    "for length in experiment.lengths():\n",
    "    experiment.run_executable(length, verbose=False)"
   ]
  },
  {
   "cell_type": "code",
   "execution_count": null,
   "id": "1ca20ea7",
   "metadata": {},
   "outputs": [],
   "source": [
    "experiment.are_results_available()"
   ]
  },
  {
   "cell_type": "code",
   "execution_count": null,
   "id": "f25b0075",
   "metadata": {},
   "outputs": [],
   "source": [
    "results = experiment.get_results()"
   ]
  },
  {
   "cell_type": "code",
   "execution_count": null,
   "id": "805539a8",
   "metadata": {},
   "outputs": [],
   "source": [
    "for (length, res) in results.items():\n",
    "    res: C_Output # \"\"Downcast\"\"\" result from Parent class (ExperimentOutPut) to child class \"C_output\", for type hintint\n",
    "    \n",
    "    print(f\"For length = {length}:\")\n",
    "    print(f\"> title: \\\"{res.title}\\\"\")\n",
    "    print(f\"> result1 = {res.result1}\")\n",
    "    print(f\"> result2 = {res.result2}\")\n",
    "    print(\"\")\n",
    "    \n",
    "    assert type(res.result1) == np.ndarray, \"Lists are cast to np array automatically!\"\n",
    "    assert type(res.result2) == np.ndarray, \"Lists are cast to np array automatically!\""
   ]
  },
  {
   "cell_type": "markdown",
   "id": "63f5e12e",
   "metadata": {},
   "source": [
    "From file"
   ]
  },
  {
   "cell_type": "code",
   "execution_count": null,
   "id": "dc0c682e",
   "metadata": {},
   "outputs": [],
   "source": [
    "result_folder = \"test_folder\"\n",
    "exp_folder    = \"c_experiment\"\n",
    "lengths       = [2,3,4]\n",
    "\n",
    "exp_loader     = Builder(result_folder, exp_folder)\n",
    "exp_from_file  = exp_loader.load(lengths) "
   ]
  },
  {
   "cell_type": "code",
   "execution_count": null,
   "id": "d1440a9e",
   "metadata": {},
   "outputs": [],
   "source": [
    "exp_from_file.are_results_available()"
   ]
  },
  {
   "cell_type": "code",
   "execution_count": null,
   "id": "6033d5d7",
   "metadata": {},
   "outputs": [],
   "source": [
    "results_from_file = exp_from_file.get_results()"
   ]
  },
  {
   "cell_type": "code",
   "execution_count": null,
   "id": "3010bcd0",
   "metadata": {},
   "outputs": [],
   "source": [
    "for (length, res) in results.items():\n",
    "    res: C_Output\n",
    "    \n",
    "    print(f\"For length = {length}:\")\n",
    "    print(f\"> title: \\\"{res.title}\\\"\")\n",
    "    print(f\"> result1 = {res.result1}\")\n",
    "    print(f\"> result2 = {res.result2}\")\n",
    "    print(\"\")"
   ]
  }
 ],
 "metadata": {
  "kernelspec": {
   "display_name": "python-simulation-manager",
   "language": "python",
   "name": "python3"
  },
  "language_info": {
   "codemirror_mode": {
    "name": "ipython",
    "version": 3
   },
   "file_extension": ".py",
   "mimetype": "text/x-python",
   "name": "python",
   "nbconvert_exporter": "python",
   "pygments_lexer": "ipython3",
   "version": "3.13.2"
  }
 },
 "nbformat": 4,
 "nbformat_minor": 5
}
